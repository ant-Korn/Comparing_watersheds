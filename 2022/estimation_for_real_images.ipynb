{
 "cells": [
  {
   "cell_type": "code",
   "execution_count": null,
   "id": "direct-milton",
   "metadata": {},
   "outputs": [],
   "source": [
    "import cv2\n",
    "import numpy as np\n",
    "import matplotlib.pyplot as plt\n",
    "import os, sys\n",
    "import time\n",
    "from scipy import ndimage\n",
    "import gc\n",
    "from memory_profiler import memory_usage"
   ]
  },
  {
   "cell_type": "markdown",
   "id": "found-influence",
   "metadata": {},
   "source": [
    "### Read markers and relief"
   ]
  },
  {
   "cell_type": "code",
   "execution_count": null,
   "id": "federal-money",
   "metadata": {},
   "outputs": [],
   "source": [
    "path_in = r\"D:\\relief\"\n",
    "path_in_markers = r\"D:\\markers\""
   ]
  },
  {
   "cell_type": "code",
   "execution_count": null,
   "id": "funded-accuracy",
   "metadata": {},
   "outputs": [],
   "source": [
    "files = tuple(filter(lambda x: \".png\" in x, os.listdir(path_in)))\n",
    "files_markers = tuple(filter(lambda x: \".png\" in x, os.listdir(path_in_markers)))\n",
    "assert len(files) == len(files_markers)"
   ]
  },
  {
   "cell_type": "code",
   "execution_count": null,
   "id": "hundred-course",
   "metadata": {},
   "outputs": [],
   "source": [
    "first = np.array(cv2.imread(os.path.join(path_in, files[0]), cv2.IMREAD_ANYDEPTH))\n",
    "first_mar = cv2.imread(os.path.join(path_in_markers, files_markers[0]), cv2.IMREAD_ANYDEPTH).astype(np.uint16)\n",
    "relief = np.empty((len(files), *first.shape), first.dtype)\n",
    "markers = np.empty((len(files_markers), *first_mar.shape), first_mar.dtype)\n",
    "relief[0,...] = first\n",
    "markers[0,...] = first_mar\n",
    "for z in range(1, len(files)):\n",
    "    relief[z,...] = cv2.imread(os.path.join(path_in, files[z]), cv2.IMREAD_ANYDEPTH)\n",
    "    markers[z,...] = cv2.imread(os.path.join(path_in_markers, files_markers[z]), cv2.IMREAD_ANYDEPTH).astype(np.uint16)"
   ]
  },
  {
   "cell_type": "code",
   "execution_count": null,
   "id": "governing-incentive",
   "metadata": {},
   "outputs": [],
   "source": [
    "markers.dtype, relief.dtype, markers.shape, relief.shape"
   ]
  },
  {
   "cell_type": "markdown",
   "id": "enabling-integration",
   "metadata": {},
   "source": [
    "### Run via IPSDK"
   ]
  },
  {
   "cell_type": "code",
   "execution_count": null,
   "id": "looking-justice",
   "metadata": {},
   "outputs": [],
   "source": [
    "import PyIPSDK.IPSDKIPLAdvancedMorphology as advmorpho\n",
    "import PyIPSDK"
   ]
  },
  {
   "cell_type": "code",
   "execution_count": null,
   "id": "compliant-rehabilitation",
   "metadata": {},
   "outputs": [],
   "source": [
    "ex_mode = PyIPSDK.eWatershedProcessingMode.eWPM_Repeatable"
   ]
  },
  {
   "cell_type": "code",
   "execution_count": null,
   "id": "digital-example",
   "metadata": {},
   "outputs": [],
   "source": [
    "im3d_relief = PyIPSDK.fromArray(relief)\n",
    "im3d_markers = PyIPSDK.fromLabelArray(markers)"
   ]
  },
  {
   "cell_type": "code",
   "execution_count": null,
   "id": "roman-calgary",
   "metadata": {},
   "outputs": [],
   "source": [
    "start_t = time.perf_counter()\n",
    "\n",
    "outImg_r = advmorpho.seededWatershed3dImg(im3d_relief, im3d_markers,\n",
    "                                          PyIPSDK.eWatershedOutputMode.eWOM_Basins, \n",
    "                                          ex_mode)\n",
    "\n",
    "process_time = (time.perf_counter() - start_t) \n",
    "print(\"process_time = {} s\".format(process_time))"
   ]
  },
  {
   "cell_type": "code",
   "execution_count": null,
   "id": "4cb676bf",
   "metadata": {},
   "outputs": [],
   "source": []
  },
  {
   "cell_type": "code",
   "execution_count": null,
   "id": "hired-recipient",
   "metadata": {},
   "outputs": [],
   "source": [
    "ex_mode = PyIPSDK.eWatershedProcessingMode.eWPM_OptimizeSpeed "
   ]
  },
  {
   "cell_type": "code",
   "execution_count": null,
   "id": "wrapped-mineral",
   "metadata": {},
   "outputs": [],
   "source": [
    "start_t = time.perf_counter()\n",
    "\n",
    "outImg_r2 = advmorpho.seededWatershed3dImg(im3d_relief, im3d_markers,\n",
    "                                          PyIPSDK.eWatershedOutputMode.eWOM_Basins, \n",
    "                                          ex_mode)\n",
    "\n",
    "process_time = (time.perf_counter() - start_t) \n",
    "print(\"process_time = {} s\".format(process_time))"
   ]
  },
  {
   "cell_type": "markdown",
   "id": "aware-franchise",
   "metadata": {},
   "source": [
    "### Run ITK"
   ]
  },
  {
   "cell_type": "code",
   "execution_count": null,
   "id": "attempted-prior",
   "metadata": {},
   "outputs": [],
   "source": [
    "import itk"
   ]
  },
  {
   "cell_type": "code",
   "execution_count": null,
   "id": "willing-margin",
   "metadata": {},
   "outputs": [],
   "source": [
    "NEED_WL = True\n",
    "itk_image_view_relief = itk.GetImageViewFromArray(relief)\n",
    "itk_image_view_markers = itk.GetImageViewFromArray(markers)\n",
    "output = np.zeros_like(markers)\n",
    "itk_image_view_output = itk.GetImageViewFromArray(output)"
   ]
  },
  {
   "cell_type": "code",
   "execution_count": null,
   "id": "purple-guess",
   "metadata": {},
   "outputs": [],
   "source": [
    "start_t = time.perf_counter()\n",
    "\n",
    "f = itk.MorphologicalWatershedFromMarkersImageFilter[itk_image_view_relief, \n",
    "                                                     itk_image_view_markers].New()\n",
    "f.SetMarkWatershedLine(NEED_WL)\n",
    "f.SetFullyConnected(True)\n",
    "f.SetInput1(itk_image_view_relief)\n",
    "f.SetInput2(itk_image_view_markers)\n",
    "labeloutput = f.GetOutput()\n",
    "labeloutput.SetPixelContainer(itk_image_view_output.GetPixelContainer())\n",
    "\n",
    "f.Update()\n",
    "\n",
    "process_time = (time.perf_counter() - start_t) \n",
    "print(\"process_time = {} s\".format(process_time))"
   ]
  },
  {
   "cell_type": "markdown",
   "id": "careful-skill",
   "metadata": {},
   "source": [
    "### Run SMIL"
   ]
  },
  {
   "cell_type": "code",
   "execution_count": null,
   "id": "gross-ballot",
   "metadata": {},
   "outputs": [],
   "source": [
    "from smilPython import Image, watershed, CubeSE, SquSE, basins, RhombicuboctahedronSE "
   ]
  },
  {
   "cell_type": "code",
   "execution_count": null,
   "id": "mineral-testament",
   "metadata": {},
   "outputs": [],
   "source": [
    "NEED_WL = True\n",
    "im_relief = Image(\"UINT16\", *relief.shape)\n",
    "im_markers = Image(\"UINT16\", *markers.shape)\n",
    "np_im_relief = im_relief.getNumArray()\n",
    "np_im_markers = im_markers.getNumArray()\n",
    "np_im_relief[...] = relief[...]\n",
    "np_im_markers[...] = markers[...]\n",
    "imBS = Image(im_markers, \"UINT16\")\n",
    "if NEED_WL:\n",
    "    imWS = Image(imBS, \"UINT16\")"
   ]
  },
  {
   "cell_type": "code",
   "execution_count": null,
   "id": "posted-connectivity",
   "metadata": {},
   "outputs": [],
   "source": [
    "start_t = time.perf_counter()\n",
    "\n",
    "if NEED_WL:\n",
    "    res = watershed(im_relief, im_markers, imWS, imBS, CubeSE())\n",
    "else:\n",
    "    res = basins(im_relief, im_markers, imBS, CubeSE())\n",
    "    \n",
    "process_time = (time.perf_counter() - start_t) \n",
    "print(\"process_time = {} s\".format(process_time))"
   ]
  },
  {
   "cell_type": "code",
   "execution_count": null,
   "id": "heard-ordinance",
   "metadata": {},
   "outputs": [],
   "source": [
    "if NEED_WL:\n",
    "    np_imWS = imWS.getNumArray()\n",
    "np_imBS = imBS.getNumArray()"
   ]
  },
  {
   "cell_type": "markdown",
   "id": "delayed-stress",
   "metadata": {},
   "source": [
    "### Run Mahotas"
   ]
  },
  {
   "cell_type": "code",
   "execution_count": null,
   "id": "bacterial-washington",
   "metadata": {},
   "outputs": [],
   "source": [
    "import mahotas"
   ]
  },
  {
   "cell_type": "code",
   "execution_count": null,
   "id": "technological-infection",
   "metadata": {},
   "outputs": [],
   "source": [
    "NEED_WL = True"
   ]
  },
  {
   "cell_type": "code",
   "execution_count": null,
   "id": "contained-twins",
   "metadata": {},
   "outputs": [],
   "source": [
    "start_t = time.perf_counter()\n",
    "\n",
    "if NEED_WL:\n",
    "    labels, wl = mahotas.cwatershed(relief, markers, Bc=ndimage.generate_binary_structure(3, 3), return_lines=NEED_WL)\n",
    "else: \n",
    "    labels = mahotas.cwatershed(relief, markers, Bc=ndimage.generate_binary_structure(3, 3), return_lines=NEED_WL)\n",
    "    \n",
    "process_time = (time.perf_counter() - start_t) \n",
    "print(\"process_time = {} s\".format(process_time))"
   ]
  },
  {
   "cell_type": "markdown",
   "id": "characteristic-accent",
   "metadata": {},
   "source": [
    "### Run Skimage"
   ]
  },
  {
   "cell_type": "code",
   "execution_count": null,
   "id": "fossil-participation",
   "metadata": {},
   "outputs": [],
   "source": [
    "from skimage import segmentation"
   ]
  },
  {
   "cell_type": "code",
   "execution_count": null,
   "id": "encouraging-convergence",
   "metadata": {},
   "outputs": [],
   "source": [
    "relief_double = relief.astype(np.float64)\n",
    "NEED_WL = True\n",
    "MASK_AVAILABLE = False"
   ]
  },
  {
   "cell_type": "code",
   "execution_count": null,
   "id": "settled-trace",
   "metadata": {},
   "outputs": [],
   "source": [
    "if MASK_AVAILABLE:\n",
    "    path_in_mask = r\"D:\\mask\"\n",
    "    files_mask = tuple(filter(lambda x: \".png\" in x, os.listdir(path_in_mask)))\n",
    "\n",
    "    first_mask = cv2.imread(os.path.join(path_in_mask, files_mask[0]), cv2.IMREAD_ANYDEPTH).astype(bool)\n",
    "    mask = np.empty((len(files_mask), *first_mask.shape), bool)\n",
    "    mask[0,...] = first_mask\n",
    "    for z in range(1, len(files_mask)):\n",
    "        mask[z,...] = cv2.imread(os.path.join(path_in_mask, files_mask[z]), cv2.IMREAD_ANYDEPTH).astype(bool)"
   ]
  },
  {
   "cell_type": "code",
   "execution_count": null,
   "id": "thrown-spread",
   "metadata": {},
   "outputs": [],
   "source": [
    "start_t = time.perf_counter()\n",
    "\n",
    "if if MASK_AVAILABLE:\n",
    "    labels = segmentation.watershed(relief_double, markers,\n",
    "                                    connectivity=ndimage.generate_binary_structure(3, 3),\n",
    "                                    watershed_line=NEED_WL,\n",
    "                                    mask=mask\n",
    "                                   )\n",
    "else:\n",
    "    labels = segmentation.watershed(relief_double, markers,\n",
    "                                    connectivity=ndimage.generate_binary_structure(3, 3),\n",
    "                                    watershed_line=NEED_WL\n",
    "                                   )\n",
    "\n",
    "process_time = (time.perf_counter() - start_t) \n",
    "print(\"process_time = {} s\".format(process_time))"
   ]
  },
  {
   "cell_type": "markdown",
   "id": "computational-patio",
   "metadata": {},
   "source": [
    "### Run Mamba"
   ]
  },
  {
   "cell_type": "code",
   "execution_count": null,
   "id": "crazy-wedding",
   "metadata": {},
   "outputs": [],
   "source": [
    "from mamba3D import image3DMb, CUBIC, copyBytePlane3D, watershedSegment3D, basinSegment3D, computeDistance3D"
   ]
  },
  {
   "cell_type": "code",
   "execution_count": null,
   "id": "appropriate-contribution",
   "metadata": {},
   "outputs": [],
   "source": [
    "def fillImageWithArray_3D(array, imOut, cval=0):\n",
    "    # Checking depth \n",
    "    if ((imOut.getDepth()==8 and array.dtype != np.uint8) or \\\n",
    "            (imOut.getDepth()==32 and array.dtype != np.uint32)):\n",
    "        raiseExceptionOnError()\n",
    "\n",
    "    # image size\n",
    "    (wi,hi,di) = imOut.getSize()\n",
    "    # array size\n",
    "    (da,ha,wa) = array.shape\n",
    "        \n",
    "    # Checking the sizes\n",
    "    #if wa!=wi or ha!=hi:\n",
    "    #    raiseExceptionOnError()\n",
    "    \n",
    "    pad_w = wi - wa\n",
    "    pad_h = hi - ha\n",
    "    pad_d = di - da\n",
    "    \n",
    "    data = np.pad(array, ((0, pad_d), (0, pad_h), (0, pad_w)), mode='constant', constant_values=cval)\n",
    "    print(data.shape)\n",
    "    #data = data.tostring()\n",
    "    #chars_err = bytes(np.chararray((data.size * data.itemsize,), \n",
    "    #                           1, \n",
    "    #                           buffer=data.data, \n",
    "    #                          ))\n",
    "    \n",
    "    imOut.loadRaw(data.tobytes())"
   ]
  },
  {
   "cell_type": "code",
   "execution_count": null,
   "id": "aboriginal-wrapping",
   "metadata": {},
   "outputs": [],
   "source": [
    "imDist = image3DMb(*relief.T.shape, 32)\n",
    "fillImageWithArray_3D(relief.astype(np.uint32), imDist, 2**16-1)\n",
    "gc.collect()\n",
    "imMarkers = image3DMb(*markers.T.shape, 32)\n",
    "fillImageWithArray_3D(markers.astype(np.uint32), imMarkers, 0)\n",
    "gc.collect()"
   ]
  },
  {
   "cell_type": "code",
   "execution_count": null,
   "id": "e6bb4c0a",
   "metadata": {},
   "outputs": [],
   "source": [
    "NEED_WL = True\n",
    "\n",
    "start_t = time.perf_counter()\n",
    "\n",
    "if NEED_WL:\n",
    "    labels = watershedSegment3D(imDist, imMarkers, grid=CUBIC)\n",
    "else:\n",
    "    labels = basinSegment3D(imDist, imMarkers, grid=CUBIC)\n",
    "\n",
    "process_time = (time.perf_counter() - start_t) \n",
    "print(\"process_time = {} s\".format(process_time))"
   ]
  },
  {
   "cell_type": "code",
   "execution_count": null,
   "id": "140a1985",
   "metadata": {},
   "outputs": [],
   "source": [
    "def getArrayFromImage_3D(imIn, shape):\n",
    "    if imIn.getDepth()==8:\n",
    "        dtype = np.uint8\n",
    "    elif imIn.getDepth()==32:\n",
    "        dtype = np.uint32\n",
    "    else:\n",
    "        raiseExceptionOnError()\n",
    "            \n",
    "    (w,h,d) = imIn.getSize()\n",
    "    # First extracting the raw data out of image imIn\n",
    "    data = imIn.extractRaw()\n",
    "    # creating an array with this data\n",
    "    # At this step this is a one-dimensional array\n",
    "    array1D = np.frombuffer(data, dtype=dtype)\n",
    "    # Reshaping it to the dimension of the image\n",
    "    array3D = array1D.reshape((d,h,w))\n",
    "    array3D = array3D[0:shape[0], 0:shape[1], 0:shape[2]]\n",
    "    return array3D"
   ]
  },
  {
   "cell_type": "code",
   "execution_count": null,
   "id": "8c4c8e81",
   "metadata": {},
   "outputs": [],
   "source": [
    "mamba_labels = getArrayFromImage_3D(imMarkers, markers.shape)"
   ]
  },
  {
   "cell_type": "code",
   "execution_count": null,
   "id": "existing-organizer",
   "metadata": {},
   "outputs": [],
   "source": []
  }
 ],
 "metadata": {
  "kernelspec": {
   "display_name": "Python 3",
   "language": "python",
   "name": "python3"
  },
  "language_info": {
   "codemirror_mode": {
    "name": "ipython",
    "version": 3
   },
   "file_extension": ".py",
   "mimetype": "text/x-python",
   "name": "python",
   "nbconvert_exporter": "python",
   "pygments_lexer": "ipython3",
   "version": "3.8.8"
  }
 },
 "nbformat": 4,
 "nbformat_minor": 5
}
